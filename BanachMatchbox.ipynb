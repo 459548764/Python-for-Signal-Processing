{
 "cells": [
  {
   "cell_type": "markdown",
   "metadata": {},
   "source": [
    "# Some Variations of Banach's Matchbox Problem"
   ]
  },
  {
   "cell_type": "markdown",
   "metadata": {},
   "source": [
    "Banach's matchbox problem is a good entry point into stochastic stopping problems. A man buys two matchbooks and puts one in each of his two pockets. He then selects a matchbox at random from either pocket, uses a single match, and then returns the matchbox to the same pocket. This problem is slightly different from the classic matchbox problem in that when the last match is taken, the sequence ends. In the classic problem, discovery of the empty box happens only when the empty box is selected **after** being emptied.\n",
    "\n",
    "The question is: **What is the probability of $k$ matches in the remaining matchbox? **\n",
    "\n",
    "The problem is given two matchbooks containing $n$ matches each and with a matchbook placed in both the left and right pockets, if a person reaches into one or the other pocket at random with equal probability, what is the probability of there being $k$ matches in the other pocket when the matchbook in the selected pocket is found to be empty?  That is, the person keeps reaching alternatively and at random to sample a match from either pocket until one of the pockets is exhausted of matches.\n",
    "\n",
    "This is easy to code up in Python using a generator:"
   ]
  },
  {
   "cell_type": "code",
   "execution_count": 109,
   "metadata": {
    "collapsed": true
   },
   "outputs": [],
   "source": [
    "from __future__ import  division\n",
    "from collections import Counter, OrderedDict\n",
    "import pandas as pd\n",
    "import random\n",
    "import numpy as np\n",
    "from scipy.misc import comb\n",
    "random.seed(12345)"
   ]
  },
  {
   "cell_type": "code",
   "execution_count": 110,
   "metadata": {
    "collapsed": true
   },
   "outputs": [],
   "source": [
    "def step(n=4):\n",
    "  'keep track of remaining matches in each matchbook'\n",
    "  a = b = n\n",
    "  while a>0 and b>0:\n",
    "    if random.randint(0,1):\n",
    "        a-=1\n",
    "    else:\n",
    "        b-=1\n",
    "    yield (a,b)"
   ]
  },
  {
   "cell_type": "markdown",
   "metadata": {},
   "source": [
    "Thus, suppose there are $n=4$ matches in each matchbook, then a valid sequence of draws from the `(left,right`) pocket is the following:\n",
    "\n",
    "`[(4, 3), (4, 2), (3, 2), (3, 1), (3, 0)]`\n",
    "\n",
    "This means that the first draw is from the right pocket leaving `3` matches there and `4` matches in the left pocket. The next draw again\n",
    "samples a match from the right pocket leaving `2` matches there and `4` in the left pocket. For the following draw, the left pocket is chosen leaving `3` matches there and `2` matches in the right pocket. This continues until the right pocket is emptied `(3,0)`. We can draw this sequence using the following code:"
   ]
  },
  {
   "cell_type": "code",
   "execution_count": 111,
   "metadata": {
    "collapsed": false
   },
   "outputs": [
    {
     "data": {
      "image/png": "[encoded data removed]",
      "text/plain": [
       "<matplotlib.figure.Figure at 0x1a582d68>"
      ]
     },
     "metadata": {},
     "output_type": "display_data"
    }
   ],
   "source": [
    "from __future__ import division\n",
    "%matplotlib inline\n",
    "from matplotlib.pylab import subplots,mgrid\n",
    "\n",
    "def draw_grid(n=4):\n",
    "    'draw square grid of `n` dimensions'\n",
    "    fig,ax = subplots()\n",
    "    i,j=mgrid[0:n+1,0:n+1]\n",
    "    ax.scatter(i.flat,j.flat,alpha=.8,color='black')\n",
    "    ax.set_aspect(1)\n",
    "    ax.plot(0,0,'ow',mec='w'); # remove origin\n",
    "    ax.plot([0,]*4,range(1,5),'or',mec='r',ms=10)\n",
    "    ax.plot(range(1,5),[0,]*4,'or',mec='r',ms=10)\n",
    "    return ax\n",
    "\n",
    "def draw_path(seq,ax,color='gray',alpha=0.5):\n",
    "    x,y=zip(*seq)\n",
    "    n = max(seq[0])\n",
    "    ax.plot((n,)+x,(n,)+y,marker='o',markersize=20,\n",
    "            alpha=alpha,color=color,lw=5)\n",
    "    ax.set_title('Sequence Length=%d'%(len(x)))    \n",
    "            \n",
    "ax = draw_grid()\n",
    "draw_path([(4, 3), (4, 2), (3, 2), (3, 1), (3, 0)],ax)"
   ]
  },
  {
   "cell_type": "markdown",
   "metadata": {},
   "source": [
    "In the figure above, the red circles indicate the termination points where one of the pockets has been emptied. The `(4,4)` point is the starting point with incremental steps moving down and to the left until one of the red circles is encountered. The length of the sequence is indicated in the title. In this case it took five draws in total to exhaust one of the matchbooks and terminate the sequence.\n",
    "\n",
    "The classical matchbox problem is to find the probability of termination at a particular circle. For example, what is the probability that the sequence terminates with one match remaining in the other matchbook? In the figure above, this means terminating at `(1,0)` or `(0,1)`.\n",
    "\n",
    "Specifically, termination at `(1,0)` means accumulating four steps down and three steps left in any sequence. This is the same as the $n$ *choose* $k$ binomial coefficient $\\texttt{Binom}(n,k)$. We can compute this using `scipy` as the following with $n=7,k=3$:"
   ]
  },
  {
   "cell_type": "code",
   "execution_count": 112,
   "metadata": {
    "collapsed": false
   },
   "outputs": [
    {
     "name": "stdout",
     "output_type": "stream",
     "text": [
      "35\n"
     ]
    }
   ],
   "source": [
    "print comb(7,3,exact=True)"
   ]
  },
  {
   "cell_type": "markdown",
   "metadata": {},
   "source": [
    "The problem with this approach is that we can accidentally count paths that would have terminated earlier. For example,"
   ]
  },
  {
   "cell_type": "code",
   "execution_count": 113,
   "metadata": {
    "collapsed": false
   },
   "outputs": [
    {
     "data": {
      "image/png": "[encoded data removed]",
      "text/plain": [
       "<matplotlib.figure.Figure at 0x1ac38be0>"
      ]
     },
     "metadata": {},
     "output_type": "display_data"
    }
   ],
   "source": [
    "ax = draw_grid()\n",
    "draw_path([(3, 4), (3, 3), (2, 3), (2, 2), (1, 2), (1, 1), (1, 0)],ax)\n",
    "draw_path([(4,3), (4, 2), (4, 1), (4, 0), (3, 0), (2, 0), (1, 0)],ax,'blue',.2)"
   ]
  },
  {
   "cell_type": "markdown",
   "metadata": {},
   "source": [
    "The blue path would never have gotten so long because it would have encountered the termination point at `(4,0)`. Thus, this straight-forward counting scheme would over-count by including these paths. The following figure shows these valid paths that terminate at `(1,0)`:"
   ]
  },
  {
   "cell_type": "code",
   "execution_count": 114,
   "metadata": {
    "collapsed": false
   },
   "outputs": [
    {
     "data": {
      "image/png": "[encoded data removed]",
      "text/plain": [
       "<matplotlib.figure.Figure at 0x1a976240>"
      ]
     },
     "metadata": {},
     "output_type": "display_data"
    }
   ],
   "source": [
    "paths=[[(3, 4),(2, 4),(1, 4),(1, 3),(1, 2),(1, 1),(1, 0)],\n",
    "[(3, 4),(2, 4),(2, 3),(1, 3),(1, 2),(1, 1),(1, 0)],\n",
    "[(3, 4),(2, 4),(2, 3),(2, 2),(1, 2),(1, 1),(1, 0)],\n",
    "[(3, 4),(2, 4),(2, 3),(2, 2),(2, 1),(1, 1),(1, 0)],\n",
    "[(3, 4),(3, 3),(2, 3),(1, 3),(1, 2),(1, 1),(1, 0)],\n",
    "[(3, 4),(3, 3),(2, 3),(2, 2),(1, 2),(1, 1),(1, 0)],\n",
    "[(3, 4),(3, 3),(2, 3),(2, 2),(2, 1),(1, 1),(1, 0)],\n",
    "[(3, 4),(3, 3),(3, 2),(2, 2),(1, 2),(1, 1),(1, 0)],\n",
    "[(3, 4),(3, 3),(3, 2),(2, 2),(2, 1),(1, 1),(1, 0)],\n",
    "[(3, 4),(3, 3),(3, 2),(3, 1),(2, 1),(1, 1),(1, 0)],\n",
    "[(4, 3),(3, 3),(2, 3),(1, 3),(1, 2),(1, 1),(1, 0)],\n",
    "[(4, 3),(3, 3),(2, 3),(2, 2),(1, 2),(1, 1),(1, 0)],\n",
    "[(4, 3),(3, 3),(2, 3),(2, 2),(2, 1),(1, 1),(1, 0)],\n",
    "[(4, 3),(3, 3),(3, 2),(2, 2),(1, 2),(1, 1),(1, 0)],\n",
    "[(4, 3),(3, 3),(3, 2),(2, 2),(2, 1),(1, 1),(1, 0)],\n",
    "[(4, 3),(3, 3),(3, 2),(3, 1),(2, 1),(1, 1),(1, 0)],\n",
    "[(4, 3),(4, 2),(3, 2),(2, 2),(1, 2),(1, 1),(1, 0)],\n",
    "[(4, 3),(4, 2),(3, 2),(2, 2),(2, 1),(1, 1),(1, 0)],\n",
    "[(4, 3),(4, 2),(3, 2),(3, 1),(2, 1),(1, 1),(1, 0)],\n",
    "[(4, 3),(4, 2),(4, 1),(3, 1),(2, 1),(1, 1),(1, 0)]]\n",
    "\n",
    "ax = draw_grid()\n",
    "for i in paths:\n",
    "    draw_path(i,ax,alpha=.1)\n",
    "   "
   ]
  },
  {
   "cell_type": "markdown",
   "metadata": {},
   "source": [
    "Let's change our perspective slightly. Instead let's examine the probability of a sequence of a certain length and see if we can use that to answer the classic question. To start with, the following figure shows valid four-long sequences. The diagonal elements are indicated in green and these are the termination points for all four-long sequences. There are $2^4=16$ such sequences."
   ]
  },
  {
   "cell_type": "code",
   "execution_count": 115,
   "metadata": {
    "collapsed": false
   },
   "outputs": [
    {
     "data": {
      "image/png": "[encoded data removed]",
      "text/plain": [
       "<matplotlib.figure.Figure at 0x19a79128>"
      ]
     },
     "metadata": {},
     "output_type": "display_data"
    }
   ],
   "source": [
    "ax = draw_grid()\n",
    "for i in zip(range(5)[::-1],range(5)):\n",
    "    ax.plot(i[0],i[1],'sg',ms=15,alpha=.3)\n",
    "draw_path([(3,4),(2,4),(1,4),(0,4)],ax)\n",
    "draw_path([(4,3),(4,2),(4,1),(4,0)],ax)"
   ]
  },
  {
   "cell_type": "markdown",
   "metadata": {},
   "source": [
    "Because only two of the sixteen valid  sequences result in termination, the probability of termination with a four-long sequence is $P_4 = \\frac{2}{16}= \\frac{1}{8}$. Now let's examine the diagonal elements with the following labels."
   ]
  },
  {
   "cell_type": "code",
   "execution_count": 116,
   "metadata": {
    "collapsed": false
   },
   "outputs": [
    {
     "data": {
      "image/png": "[encoded data removed]",
      "text/plain": [
       "<matplotlib.figure.Figure at 0x1b093748>"
      ]
     },
     "metadata": {},
     "output_type": "display_data"
    }
   ],
   "source": [
    "ax = draw_grid()\n",
    "for i in zip(range(1,4)[::-1],range(1,4)):\n",
    "    ax.text(i[0],i[1],'(%d,%d)'%i,fontsize=13,color='g')"
   ]
  },
  {
   "cell_type": "markdown",
   "metadata": {},
   "source": [
    "We can use the labels to compute the number of paths that terminate at each of the diagonal elements.\n",
    "\n",
    "| Label | Number of Paths|\n",
    "|-------|----------------|\n",
    "| (1,3) | $\\texttt{binom}(4,1)=4$|\n",
    "| (2,2) | $\\texttt{binom}(4,2)=6$|\n",
    "| (3,1) | $\\texttt{binom}(4,1)=4$|\n",
    "\n",
    "This means that there are `16-2=4+6+4=14` paths out of the initial group of `16` that have yet to terminate. Now, let's consider sequences of length five. The following figure shows the migration of paths to the next lower diagonal corresponding to the five-long sequences."
   ]
  },
  {
   "cell_type": "code",
   "execution_count": 117,
   "metadata": {
    "collapsed": false
   },
   "outputs": [
    {
     "data": {
      "image/png": "[encoded data removed]",
      "text/plain": [
       "<matplotlib.figure.Figure at 0x198e82b0>"
      ]
     },
     "metadata": {},
     "output_type": "display_data"
    }
   ],
   "source": [
    "# construct matrix of indices for convenience\n",
    "i,j=np.meshgrid(range(5),range(4,-1,-1))\n",
    "m= i+1j*j\n",
    "\n",
    "ax = draw_grid()\n",
    "for i in np.diagonal(m,-1):\n",
    "    ax.plot(i.real,i.imag,'sg',ms=15,alpha=.3)\n",
    "\n",
    "for i in np.diagonal(m,0):\n",
    "    if i.real==0 or i.imag==0: continue\n",
    "    ax.text(i.real,i.imag,'(%d,%d)'%(i.real,i.imag),fontsize=13,color='g')\n",
    "\n",
    "# add arrow markers\n",
    "heads=map(lambda i:(i.real,i.imag),np.diagonal(m,0))[1:-1]\n",
    "\n",
    "for i,j in heads:\n",
    "    t=(i-1,j)\n",
    "    ax.annotate(\"\",xy=(i-1,j),xytext=(i,j),\n",
    "                arrowprops=dict(width=.5,color='green'),\n",
    "                )\n",
    "    ax.annotate(\"\",xy=(i,j-1),xytext=(i,j),\n",
    "                arrowprops=dict(width=.5,color='green'),\n",
    "                )"
   ]
  },
  {
   "cell_type": "markdown",
   "metadata": {},
   "source": [
    "Note that two arrows end up at red termini. There are `28=2*14` paths in total (because each diagonal element can go either down or right). Of these `28`, eight terminate on a red circle. Thus, under these conditions, the probability of a terminating five-long sequence is therefore $p_5 = \\frac{8}{28}=\\frac{2}{7}$. Next, we can draw the next layer corresponding to six-long sequences."
   ]
  },
  {
   "cell_type": "code",
   "execution_count": 118,
   "metadata": {
    "collapsed": false
   },
   "outputs": [
    {
     "data": {
      "image/png": "[encoded data removed]",
      "text/plain": [
       "<matplotlib.figure.Figure at 0x19c71a20>"
      ]
     },
     "metadata": {},
     "output_type": "display_data"
    }
   ],
   "source": [
    "ax = draw_grid()\n",
    "for i in np.diagonal(m,-2):\n",
    "#     if i.real==0 or i.imag==0: continue\n",
    "    ax.plot(i.real,i.imag,'sg',ms=15,alpha=.3)\n",
    "    \n",
    "for i in np.diagonal(m,-1):\n",
    "    if i.real==0 or i.imag==0: continue\n",
    "    ax.text(i.real,i.imag,'(%d,%d)'%(i.real,i.imag),fontsize=13,color='g')\n",
    "\n",
    "for i in np.diagonal(m,-2):\n",
    "#     if i.real==0 or i.imag==0: continue\n",
    "    ax.text(i.real-0.5,i.imag-0.5,'(%d,%d)'%(i.real,i.imag),fontsize=13,color='blue')\n",
    "\n",
    "    \n",
    "# add arrow markers\n",
    "heads=map(lambda i:(i.real,i.imag),np.diagonal(m,-1))[1:-1]\n",
    "\n",
    "for i,j in heads:\n",
    "    t=(i-1,j)\n",
    "    ax.annotate(\"\",xy=(i-1,j),xytext=(i,j),\n",
    "                arrowprops=dict(width=.5,color='green'),\n",
    "                )\n",
    "    ax.annotate(\"\",xy=(i,j-1),xytext=(i,j),\n",
    "                arrowprops=dict(width=.5,color='green'),\n",
    "                )"
   ]
  },
  {
   "cell_type": "markdown",
   "metadata": {},
   "source": [
    "In the last stage, there were `8` out of `28` paths that terminated. That leaves `20` paths still in play and therefore `40` paths on the indicated diagonal.  In terms of our earlier accounting, we have\n",
    "\n",
    "| Label | Number of Paths|\n",
    "|-------|----------------|\n",
    "| <span style=color:green>(1,2)</span> | 10|\n",
    "| <span style=color:green>(2,1)</span> | 10|\n",
    "\n",
    "\n",
    "For the next layer, we have the following:\n",
    "\n",
    "| Label | Number of Paths|\n",
    "|-------|----------------|\n",
    "| <span style=color:blue>(0,2)</span> | 10|\n",
    "| <span style=color:blue>(2,0)</span> | 10|\n",
    "| <span style=color:blue>(1,1)</span>  | 20|\n",
    "\n",
    "With this accounting, the probability of termination with a six-long\n",
    "sequence is $p_6=\\frac{20}{40}=\\frac{1}{2}$. Finally, because all paths going through `(1,1)` terminate at either `(1,0)` or `(0,1)`, we have $p_7=1$.\n",
    "\n",
    "To assemble all these results, recall we have\n",
    "$$ P_4=\\frac{1}{8}$$\n",
    "\n",
    "and also, because $p_4 = P(T_5| \\hat{T}_4)$ where $T_5$ is the probability of termination in five steps and $\\hat{T}_4$ is the probability of not terminating in four steps, we have\n",
    "\n",
    "$$ P_5 = p_5 (1-P_4) = \\frac{2}{7} \\frac{7}{8}=\\frac{1}{4}$$\n",
    "\n",
    "Likewise for $P_6$,\n",
    "\n",
    "$$ P_6 = p_6 (1-P_4)(1-p_5) = \\frac{1}{2}\\frac{7}{8}\\frac{5}{7} =\\frac{5}{16}$$\n",
    "\n",
    "Finally, for $P_7$, we have the following:\n",
    "\n",
    "$$ P_7 = p_7 (1-P_4)(1-p_5)(1-p_6) = 1\\frac{7}{8}\\frac{5}{7}\\frac{1}{2} =\\frac{5}{16}$$\n",
    "\n",
    "Note that\n",
    "\n",
    "$$ P_4+P_5+P_6+P_7 = 1 $$\n",
    "\n",
    "A quick simulation can bear this out. "
   ]
  },
  {
   "cell_type": "code",
   "execution_count": 119,
   "metadata": {
    "collapsed": false
   },
   "outputs": [
    {
     "data": {
      "text/plain": [
       "Counter({4: 125, 5: 232, 6: 330, 7: 313})"
      ]
     },
     "execution_count": 119,
     "metadata": {},
     "output_type": "execute_result"
    }
   ],
   "source": [
    "Counter([len(tuple(step())) for i in range(1000)])"
   ]
  },
  {
   "cell_type": "markdown",
   "metadata": {
    "collapsed": true
   },
   "source": [
    "We can automate this process in the following code"
   ]
  },
  {
   "cell_type": "code",
   "execution_count": 120,
   "metadata": {
    "collapsed": true
   },
   "outputs": [],
   "source": [
    "from scipy.misc import comb\n",
    "import numpy as np"
   ]
  },
  {
   "cell_type": "code",
   "execution_count": 121,
   "metadata": {
    "collapsed": false
   },
   "outputs": [
    {
     "name": "stdout",
     "output_type": "stream",
     "text": [
      "[1 4 6 4 1]\n"
     ]
    },
    {
     "data": {
      "text/plain": [
       "(4, 4)"
      ]
     },
     "execution_count": 121,
     "metadata": {},
     "output_type": "execute_result"
    }
   ],
   "source": [
    "from __future__ import division\n",
    "n=4\n",
    "t = np.array([comb(n,i,exact=True) for i in range(n+1)],dtype=int)\n",
    "print t\n",
    "t[[0,-1]].sum()/t.sum()\n",
    "# split\n",
    "(t[1],t[-2])"
   ]
  },
  {
   "cell_type": "code",
   "execution_count": 122,
   "metadata": {
    "collapsed": false
   },
   "outputs": [
    {
     "data": {
      "text/plain": [
       "array([ 4, 10, 10,  4])"
      ]
     },
     "execution_count": 122,
     "metadata": {},
     "output_type": "execute_result"
    }
   ],
   "source": [
    "from numpy.lib.stride_tricks import as_strided\n",
    "np.hstack([t[1],as_strided(t[1:-1],(2,3-2+1),(t.itemsize,)*2).sum(axis=1),t[-2]])"
   ]
  },
  {
   "cell_type": "code",
   "execution_count": 123,
   "metadata": {
    "collapsed": true
   },
   "outputs": [],
   "source": [
    "from scipy.misc import comb"
   ]
  },
  {
   "cell_type": "code",
   "execution_count": 124,
   "metadata": {
    "collapsed": false
   },
   "outputs": [
    {
     "name": "stdout",
     "output_type": "stream",
     "text": [
      "[1, 4, 6, 4, 1]\n",
      "0.125\n"
     ]
    }
   ],
   "source": [
    "x=[comb(4,i,exact=True) for i in range(5)]\n",
    "print x\n",
    "print x[0]*2/sum(x)"
   ]
  },
  {
   "cell_type": "code",
   "execution_count": 125,
   "metadata": {
    "collapsed": false
   },
   "outputs": [],
   "source": [
    "a = x.pop(0)\n",
    "b = x.pop()\n",
    "x=[ x[0] ]+[ sum(x[slice(i,i+2)]) for i in range(len(x)-1) ]+[ x[-1] ]"
   ]
  },
  {
   "cell_type": "code",
   "execution_count": 126,
   "metadata": {
    "collapsed": false
   },
   "outputs": [
    {
     "name": "stdout",
     "output_type": "stream",
     "text": [
      "0.285714285714\n"
     ]
    }
   ],
   "source": [
    "print 2*x[0]/sum(x)"
   ]
  },
  {
   "cell_type": "code",
   "execution_count": 127,
   "metadata": {
    "collapsed": false
   },
   "outputs": [],
   "source": [
    "def probstop(n=4):\n",
    "    o=OrderedDict()\n",
    "    k=n\n",
    "    x=[comb(n,i,exact=True) for i in range(n+1)]\n",
    "    o[k]=2*x[0]/sum(x)\n",
    "    while len(x)>2:\n",
    "        a = x.pop(0)\n",
    "        b = x.pop()\n",
    "        x=[x[0]]+[sum(x[slice(i,i+2)]) for i in range(len(x)-1)]+[x[-1]]\n",
    "        k+=1\n",
    "        o[k]=2*x[0]/sum(x)\n",
    "        assert o[k]>0\n",
    "    p = OrderedDict()\n",
    "    p[n] = o[n]\n",
    "    factor = 1-o[n]\n",
    "    m = n+1\n",
    "    for k,v in o.iteritems():\n",
    "        print 'k=',k\n",
    "        print 'v=',v\n",
    "        print 'factor',factor\n",
    "        if k==n: continue\n",
    "        print '=='*10\n",
    "        p[k]=factor*o[k]\n",
    "        factor = factor*(1-v)        \n",
    "    return o,p"
   ]
  },
  {
   "cell_type": "code",
   "execution_count": 128,
   "metadata": {
    "collapsed": false
   },
   "outputs": [
    {
     "name": "stdout",
     "output_type": "stream",
     "text": [
      "k= 5\n",
      "v= 0.0625\n",
      "factor 0.9375\n",
      "k= 6\n",
      "v= 0.166666666667\n",
      "factor 0.9375\n",
      "====================\n",
      "k= 7\n",
      "v= 0.3\n",
      "factor 0.78125\n",
      "====================\n",
      "k= 8\n",
      "v= 0.5\n",
      "factor 0.546875\n",
      "====================\n",
      "k= 9\n",
      "v= 1.0\n",
      "factor 0.2734375\n",
      "====================\n"
     ]
    }
   ],
   "source": [
    "o,p=probstop(5)"
   ]
  },
  {
   "cell_type": "code",
   "execution_count": 129,
   "metadata": {
    "collapsed": false
   },
   "outputs": [
    {
     "data": {
      "text/plain": [
       "OrderedDict([(5, 0.0625),\n",
       "             (6, 0.16666666666666666),\n",
       "             (7, 0.3),\n",
       "             (8, 0.5),\n",
       "             (9, 1.0)])"
      ]
     },
     "execution_count": 129,
     "metadata": {},
     "output_type": "execute_result"
    }
   ],
   "source": [
    "o"
   ]
  },
  {
   "cell_type": "code",
   "execution_count": 130,
   "metadata": {
    "collapsed": false
   },
   "outputs": [
    {
     "data": {
      "text/plain": [
       "OrderedDict([(5, 0.0625),\n",
       "             (6, 0.15625),\n",
       "             (7, 0.234375),\n",
       "             (8, 0.2734375),\n",
       "             (9, 0.2734375)])"
      ]
     },
     "execution_count": 130,
     "metadata": {},
     "output_type": "execute_result"
    }
   ],
   "source": [
    "p"
   ]
  },
  {
   "cell_type": "code",
   "execution_count": 131,
   "metadata": {
    "collapsed": false
   },
   "outputs": [
    {
     "data": {
      "text/plain": [
       "1.0"
      ]
     },
     "execution_count": 131,
     "metadata": {},
     "output_type": "execute_result"
    }
   ],
   "source": [
    "sum(p.values())"
   ]
  },
  {
   "cell_type": "code",
   "execution_count": 132,
   "metadata": {
    "collapsed": false
   },
   "outputs": [
    {
     "data": {
      "text/plain": [
       "[<matplotlib.lines.Line2D at 0x1b5329e8>]"
      ]
     },
     "execution_count": 132,
     "metadata": {},
     "output_type": "execute_result"
    },
    {
     "data": {
      "image/png": "[encoded data removed]",
      "text/plain": [
       "<matplotlib.figure.Figure at 0x19e9cf60>"
      ]
     },
     "metadata": {},
     "output_type": "display_data"
    }
   ],
   "source": [
    "fig,ax=subplots()\n",
    "ax.plot(p.keys(),p.values(),'-o')"
   ]
  },
  {
   "cell_type": "code",
   "execution_count": 133,
   "metadata": {
    "collapsed": false
   },
   "outputs": [
    {
     "data": {
      "text/plain": [
       "<matplotlib.axes._subplots.AxesSubplot at 0x19efb470>"
      ]
     },
     "execution_count": 133,
     "metadata": {},
     "output_type": "execute_result"
    }
   ],
   "source": [
    "w=pd.Series(Counter([len(tuple(step(5))) for i in range(5000)]))\n",
    "(w/5000.).plot(ax=ax,marker='s')"
   ]
  },
  {
   "cell_type": "code",
   "execution_count": 136,
   "metadata": {
    "collapsed": false
   },
   "outputs": [
    {
     "ename": "SyntaxError",
     "evalue": "invalid syntax (<ipython-input-136-68cb07aab6c2>, line 1)",
     "output_type": "error",
     "traceback": [
      "\u001b[1;36m  File \u001b[1;32m\"<ipython-input-136-68cb07aab6c2>\"\u001b[1;36m, line \u001b[1;32m1\u001b[0m\n\u001b[1;33m    fig|\u001b[0m\n\u001b[1;37m        ^\u001b[0m\n\u001b[1;31mSyntaxError\u001b[0m\u001b[1;31m:\u001b[0m invalid syntax\n"
     ]
    }
   ],
   "source": [
    "fig"
   ]
  },
  {
   "cell_type": "code",
   "execution_count": 137,
   "metadata": {
    "collapsed": false
   },
   "outputs": [
    {
     "data": {
      "text/plain": [
       "[(20, 19),\n",
       " (20, 18),\n",
       " (19, 18),\n",
       " (19, 17),\n",
       " (19, 16),\n",
       " (18, 16),\n",
       " (17, 16),\n",
       " (16, 16),\n",
       " (16, 15),\n",
       " (15, 15),\n",
       " (14, 15),\n",
       " (13, 15),\n",
       " (12, 15),\n",
       " (12, 14),\n",
       " (12, 13),\n",
       " (12, 12),\n",
       " (11, 12),\n",
       " (11, 11),\n",
       " (10, 11),\n",
       " (10, 10),\n",
       " (10, 9),\n",
       " (10, 8),\n",
       " (9, 8),\n",
       " (8, 8),\n",
       " (7, 8),\n",
       " (6, 8),\n",
       " (6, 7),\n",
       " (5, 7),\n",
       " (4, 7),\n",
       " (4, 6),\n",
       " (3, 6),\n",
       " (2, 6),\n",
       " (1, 6),\n",
       " (1, 5),\n",
       " (0, 5)]"
      ]
     },
     "execution_count": 137,
     "metadata": {},
     "output_type": "execute_result"
    }
   ],
   "source": [
    "list(step(20))"
   ]
  },
  {
   "cell_type": "code",
   "execution_count": null,
   "metadata": {
    "collapsed": true
   },
   "outputs": [],
   "source": []
  }
 ],
 "metadata": {
  "kernelspec": {
   "display_name": "Python 2",
   "language": "python",
   "name": "python2"
  },
  "language_info": {
   "codemirror_mode": {
    "name": "ipython",
    "version": 2
   },
   "file_extension": ".py",
   "mimetype": "text/x-python",
   "name": "python",
   "nbconvert_exporter": "python",
   "pygments_lexer": "ipython2",
   "version": "2.7.11"
  }
 },
 "nbformat": 4,
 "nbformat_minor": 0
}
