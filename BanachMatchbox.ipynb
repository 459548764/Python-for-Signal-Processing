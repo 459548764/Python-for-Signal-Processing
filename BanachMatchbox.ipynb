{
 "cells": [
  {
   "cell_type": "markdown",
   "metadata": {},
   "source": [
    "# Some Variations of Banach's Matchbox Problem"
   ]
  },
  {
   "cell_type": "markdown",
   "metadata": {},
   "source": [
    "Banach's matchbox problem is a good entry point into stochastic stopping problems. A man buys two matchbooks and puts one in each of his two pockets. He then selects a matchbox at random from either pocket, uses a single match, and then returns the matchbox to the same pocket, absentmindedly not noticing if he has taken the last match. After a certain number of draws, an empty matchbox is selected and found emptied. What is the probability of $k$ matches in the remaining matchbox? \n",
    "\n",
    "The problem is given two matchbooks containing $n$ matches each and with a matchbook placed in both the left and right pockets, if a person reaches into one or the other pocket at random with equal probability, what is the probability of there being $k$ matches in the other pocket when the matchbook in the selected pocket is found to be empty?  That is, the person keeps reaching alternatively and at random to sample a match from either pocket until one of the pockets is exhausted of matches.\n",
    "\n",
    "This is easy to code up in Python using a generator:"
   ]
  },
  {
   "cell_type": "code",
   "execution_count": 62,
   "metadata": {
    "collapsed": true
   },
   "outputs": [],
   "source": [
    "import random\n",
    "\n",
    "random.seed(12345)\n",
    "def step(n=4):\n",
    "  'keep track of remaining matches in each matchbook'\n",
    "  a = b = n\n",
    "  while a>0 and b>0:\n",
    "    if random.randint(0,1):\n",
    "        a-=1\n",
    "    else:\n",
    "        b-=1\n",
    "    yield (a,b)"
   ]
  },
  {
   "cell_type": "markdown",
   "metadata": {},
   "source": [
    "Thus, suppose there are $n=4$ matches in each matchbook, then a valid sequence of draws from the `(left,right`) pocket is the following:\n",
    "\n",
    "`[(4, 3), (4, 2), (3, 2), (3, 1), (3, 0)]`\n",
    "\n",
    "This means that the first draw is from the right pocket leaving `3` matches there and `4` matches in the left pocket. The next draw again\n",
    "samples a match from the right pocket leaving `2` matches there and `4` in the left pocket. For the following draw, the left pocket is chosen leaving `3` matches there and `2` matches in the right pocket. This continues until the right pocket is emptied `(3,0)`. We can draw this sequence using the following code:"
   ]
  },
  {
   "cell_type": "code",
   "execution_count": 63,
   "metadata": {
    "collapsed": false
   },
   "outputs": [
    {
     "data": {
      "image/png": "[encoded data removed]",
      "text/plain": [
       "<matplotlib.figure.Figure at 0x19942400>"
      ]
     },
     "metadata": {},
     "output_type": "display_data"
    }
   ],
   "source": [
    "%matplotlib inline\n",
    "from matplotlib.pylab import subplots,mgrid\n",
    "\n",
    "def draw_grid(n=4):\n",
    "    'draw square grid of `n` dimensions'\n",
    "    fig,ax = subplots()\n",
    "    i,j=mgrid[0:n+1,0:n+1]\n",
    "    ax.scatter(i.flat,j.flat,alpha=.8,color='black')\n",
    "    ax.set_aspect(1)\n",
    "    ax.plot(0,0,'ow',mec='w'); # remove origin\n",
    "    ax.plot([0,]*4,range(1,5),'or')\n",
    "    ax.plot(range(1,5),[0,]*4,'or')\n",
    "    return ax\n",
    "\n",
    "def draw_path(seq,ax,color='gray',alpha=0.5):\n",
    "    x,y=zip(*seq)\n",
    "    n = max(seq[0])\n",
    "    ax.plot((n,)+x,(n,)+y,marker='o',markersize=20,\n",
    "            alpha=alpha,color=color,lw=5)\n",
    "    ax.set_title('Sequence Length=%d'%(len(x)))    \n",
    "            \n",
    "ax = draw_grid()\n",
    "# x,y=zip(*[(4, 3), (4, 2), (3, 2), (3, 1), (3, 0)])\n",
    "# ax.plot((4,)+x,(4,)+y,marker='o',markersize=20,\n",
    "#         alpha=.5,color='gray',lw=5)\n",
    "# ax.set_title('Sequence Length=%d'%(len(x)))\n",
    "\n",
    "draw_path([(4, 3), (4, 2), (3, 2), (3, 1), (3, 0)],ax)"
   ]
  },
  {
   "cell_type": "markdown",
   "metadata": {},
   "source": [
    "In the figure above, the red circles indicate the termination points where one of the pockets has been emptied. The `(4,4)` point is the starting point with incremental steps moving down and to the left until one of the red circles is encountered. The length of the sequence is indicated in the title. In this case it took five draws in total to exhaust one of the matchbooks and terminate the sequence.\n",
    "\n",
    "The classical matchbox problem is to find the probability of termination at a particular circle. For example, what is the probability that the sequence terminates with one match remaining in the other matchbook? In the figure above, this means terminating at `(1,0)` or `(0,1)`.\n",
    "\n",
    "Specifically, termination at `(1,0)` means accumulating four steps down and three steps left in any sequence. This is the same as the $n$ *choose* $k$ binomial coefficient $\\texttt{Binom}(n,k)$. We can compute this using `scipy` as the following with $n=7,k=3$:"
   ]
  },
  {
   "cell_type": "code",
   "execution_count": 64,
   "metadata": {
    "collapsed": false
   },
   "outputs": [
    {
     "name": "stdout",
     "output_type": "stream",
     "text": [
      "35\n"
     ]
    }
   ],
   "source": [
    "from scipy.misc import comb\n",
    "print comb(7,3,exact=True)"
   ]
  },
  {
   "cell_type": "markdown",
   "metadata": {},
   "source": [
    "The problem with this approach is that we can accidentally count paths that would have terminated earlier. For example,"
   ]
  },
  {
   "cell_type": "code",
   "execution_count": 65,
   "metadata": {
    "collapsed": false
   },
   "outputs": [
    {
     "data": {
      "image/png": "[encoded data removed]",
      "text/plain": [
       "<matplotlib.figure.Figure at 0x196e5ac8>"
      ]
     },
     "metadata": {},
     "output_type": "display_data"
    }
   ],
   "source": [
    "ax = draw_grid()\n",
    "draw_path([(3, 4), (3, 3), (2, 3), (2, 2), (1, 2), (1, 1), (1, 0)],ax)\n",
    "draw_path([(4,3), (4, 2), (4, 1), (4, 0), (3, 0), (2, 0), (1, 0)],ax,'blue')"
   ]
  },
  {
   "cell_type": "markdown",
   "metadata": {},
   "source": [
    "The blue path would never have gotten so long because it would have encountered the termination point at `(4,0)`. Thus, this straight-forward counting scheme would over-count by including these paths. The following figure shows these valid paths:"
   ]
  },
  {
   "cell_type": "code",
   "execution_count": 85,
   "metadata": {
    "collapsed": false
   },
   "outputs": [
    {
     "data": {
      "image/png": "[encoded data removed]",
      "text/plain": [
       "<matplotlib.figure.Figure at 0xbea15f8>"
      ]
     },
     "metadata": {},
     "output_type": "display_data"
    }
   ],
   "source": [
    "paths=[[(3, 4),(2, 4),(1, 4),(1, 3),(1, 2),(1, 1),(1, 0)],\n",
    "[(3, 4),(2, 4),(2, 3),(1, 3),(1, 2),(1, 1),(1, 0)],\n",
    "[(3, 4),(2, 4),(2, 3),(2, 2),(1, 2),(1, 1),(1, 0)],\n",
    "[(3, 4),(2, 4),(2, 3),(2, 2),(2, 1),(1, 1),(1, 0)],\n",
    "[(3, 4),(3, 3),(2, 3),(1, 3),(1, 2),(1, 1),(1, 0)],\n",
    "[(3, 4),(3, 3),(2, 3),(2, 2),(1, 2),(1, 1),(1, 0)],\n",
    "[(3, 4),(3, 3),(2, 3),(2, 2),(2, 1),(1, 1),(1, 0)],\n",
    "[(3, 4),(3, 3),(3, 2),(2, 2),(1, 2),(1, 1),(1, 0)],\n",
    "[(3, 4),(3, 3),(3, 2),(2, 2),(2, 1),(1, 1),(1, 0)],\n",
    "[(3, 4),(3, 3),(3, 2),(3, 1),(2, 1),(1, 1),(1, 0)],\n",
    "[(4, 3),(3, 3),(2, 3),(1, 3),(1, 2),(1, 1),(1, 0)],\n",
    "[(4, 3),(3, 3),(2, 3),(2, 2),(1, 2),(1, 1),(1, 0)],\n",
    "[(4, 3),(3, 3),(2, 3),(2, 2),(2, 1),(1, 1),(1, 0)],\n",
    "[(4, 3),(3, 3),(3, 2),(2, 2),(1, 2),(1, 1),(1, 0)],\n",
    "[(4, 3),(3, 3),(3, 2),(2, 2),(2, 1),(1, 1),(1, 0)],\n",
    "[(4, 3),(3, 3),(3, 2),(3, 1),(2, 1),(1, 1),(1, 0)],\n",
    "[(4, 3),(4, 2),(3, 2),(2, 2),(1, 2),(1, 1),(1, 0)],\n",
    "[(4, 3),(4, 2),(3, 2),(2, 2),(2, 1),(1, 1),(1, 0)],\n",
    "[(4, 3),(4, 2),(3, 2),(3, 1),(2, 1),(1, 1),(1, 0)],\n",
    "[(4, 3),(4, 2),(4, 1),(3, 1),(2, 1),(1, 1),(1, 0)]]\n",
    "\n",
    "ax = draw_grid()\n",
    "for i in paths:\n",
    "    draw_path(i,ax,alpha=.1)\n",
    "   "
   ]
  },
  {
   "cell_type": "markdown",
   "metadata": {},
   "source": [
    "Now following this pattern, all we have to do is count for all the other termination points.\n",
    "\n",
    "\n",
    "|termination point  | num of paths|\n",
    "|--------------------:|-------------|\n",
    "|`(4,0)`|1|\n",
    "|`(0,4)`|1|\n",
    "|`(3,0)` | 5|\n",
    "|`(0,3)` | 5|\n",
    "|`(2,0)` | 5|\n",
    "|`(0,2)` | 5|\n",
    "|`(1,0)` | 35|\n",
    "|`(0,1)` | 35|\n"
   ]
  },
  {
   "cell_type": "markdown",
   "metadata": {},
   "source": [
    "| Name   | A   | B   | C   |\n",
    "|--------|----:|----:|----:|\n",
    "|Fish    |2.34 |3.23 |3.00 |\n",
    "|Chicken |1.55 |1.23 |1.22 |\n",
    "|Pork    |2.22 |3.32 |2.56 |"
   ]
  },
  {
   "cell_type": "markdown",
   "metadata": {},
   "source": [
    "## Length of Sequence"
   ]
  },
  {
   "cell_type": "code",
   "execution_count": null,
   "metadata": {
    "collapsed": true
   },
   "outputs": [],
   "source": []
  }
 ],
 "metadata": {
  "kernelspec": {
   "display_name": "Python 2",
   "language": "python",
   "name": "python2"
  },
  "language_info": {
   "codemirror_mode": {
    "name": "ipython",
    "version": 2
   },
   "file_extension": ".py",
   "mimetype": "text/x-python",
   "name": "python",
   "nbconvert_exporter": "python",
   "pygments_lexer": "ipython2",
   "version": "2.7.11"
  }
 },
 "nbformat": 4,
 "nbformat_minor": 0
}
